{
 "cells": [
  {
   "cell_type": "markdown",
   "id": "86075200-07a4-422e-a985-1ecd7a2ef9e0",
   "metadata": {},
   "source": [
    "# 5. Wykorzystanie narzędzi do eksploracyjnej analizy danych (EDA)"
   ]
  },
  {
   "cell_type": "code",
   "execution_count": 24,
   "id": "b5fcc4c8-4c3b-4d82-b34c-ab302fcdcf8c",
   "metadata": {},
   "outputs": [
    {
     "name": "stdout",
     "output_type": "stream",
     "text": [
      "<class 'pandas.core.frame.DataFrame'>\n",
      "RangeIndex: 3058 entries, 0 to 3057\n",
      "Columns: 247 entries, SbjNum to gk_weight\n",
      "dtypes: float64(208), int64(18), object(21)\n",
      "memory usage: 5.8+ MB\n",
      "None\n",
      "             SbjNum        Srvyr      Country         LANG           R1  \\\n",
      "count  3.058000e+03  3058.000000  3058.000000  3058.000000  3058.000000   \n",
      "mean   1.333905e+08  3084.743623     2.012426     2.180510    22.521583   \n",
      "std    1.256690e+05    97.219107     0.817203     2.364438    20.294923   \n",
      "min    1.331715e+08  3001.000000     1.000000     1.000000     1.000000   \n",
      "25%    1.332825e+08  3010.000000     1.000000     1.000000     7.000000   \n",
      "50%    1.333755e+08  3026.000000     2.000000     1.000000    11.000000   \n",
      "75%    1.334985e+08  3212.000000     3.000000     1.000000    49.000000   \n",
      "max    1.336450e+08  3264.000000     3.000000    11.000000    54.000000   \n",
      "\n",
      "              R1_5           R4           R5           R6           R7  ...  \\\n",
      "count  1016.000000  3058.000000  3058.000000  3058.000000  3058.000000  ...   \n",
      "mean     27.378937     1.503270    34.038914     1.771419    24.448986  ...   \n",
      "std      10.088041     0.500071    11.386285     3.130841    26.377909  ...   \n",
      "min       9.000000     1.000000    18.000000     1.000000     1.000000  ...   \n",
      "25%      18.750000     1.000000    25.000000     1.000000     8.000000  ...   \n",
      "50%      28.000000     2.000000    31.500000     2.000000    21.000000  ...   \n",
      "75%      35.000000     2.000000    40.000000     2.000000    24.000000  ...   \n",
      "max      45.000000     2.000000    99.000000    99.000000    99.000000  ...   \n",
      "\n",
      "          G11_96  G11_99  FinalOutcome  NumOfVisits  weight_combined  \\\n",
      "count  32.000000     2.0        3058.0  3058.000000      3058.000000   \n",
      "mean    0.718750     1.0           1.0     1.130150         1.000987   \n",
      "std     0.456803     0.0           0.0     0.449694         0.403105   \n",
      "min     0.000000     1.0           1.0     1.000000         0.799916   \n",
      "25%     0.000000     1.0           1.0     1.000000         0.829860   \n",
      "50%     1.000000     1.0           1.0     1.000000         0.883601   \n",
      "75%     1.000000     1.0           1.0     1.000000         1.000000   \n",
      "max     1.000000     1.0           1.0     5.000000         3.791351   \n",
      "\n",
      "       kenya_weight  nigeria_weight  southafrica_weight     agegroup  \\\n",
      "count   1002.000000     1016.000000              1040.0  3058.000000   \n",
      "mean       1.000000        1.002970                 1.0     1.475147   \n",
      "std        0.568149        0.413589                 0.0     0.653771   \n",
      "min        0.799916        0.829860                 1.0     1.000000   \n",
      "25%        0.799916        0.829860                 1.0     1.000000   \n",
      "50%        0.799916        0.872352                 1.0     1.000000   \n",
      "75%        1.157689        0.883601                 1.0     2.000000   \n",
      "max        3.791351        2.722043                 1.0     3.000000   \n",
      "\n",
      "         gk_weight  \n",
      "count  3058.000000  \n",
      "mean      2.325065  \n",
      "std       0.858712  \n",
      "min       1.555754  \n",
      "25%       1.753344  \n",
      "50%       2.046237  \n",
      "75%       2.325065  \n",
      "max       7.110619  \n",
      "\n",
      "[8 rows x 226 columns]\n"
     ]
    }
   ],
   "source": [
    "import pandas as pd\n",
    "\n",
    "df = pd.read_csv('data.csv')\n",
    "\n",
    "# Podstawowe informacje o danych\n",
    "print(df.info())\n",
    "print(df.describe())"
   ]
  },
  {
   "cell_type": "markdown",
   "id": "9dd8a409-84d9-4931-8a59-902e4477de68",
   "metadata": {},
   "source": [
    "## Sprawdź rozkłady danych:"
   ]
  },
  {
   "cell_type": "code",
   "execution_count": 29,
   "id": "7d41fb99-c1f5-4b15-8a0b-e8ca545489fb",
   "metadata": {},
   "outputs": [
    {
     "data": {
      "image/png": "[encoded data removed]",
      "text/plain": [
       "<Figure size 640x480 with 1 Axes>"
      ]
     },
     "metadata": {},
     "output_type": "display_data"
    }
   ],
   "source": [
    "import seaborn as sns\n",
    "import matplotlib.pyplot as plt\n",
    "\n",
    "# Histogram rozkladu cen\n",
    "sns.histplot(df['gk_weight'], kde=True)\n",
    "plt.title('Rozklad gk_weight')\n",
    "plt.show()"
   ]
  },
  {
   "cell_type": "markdown",
   "id": "d722b7bf-9d0c-45f1-9dd1-912378976180",
   "metadata": {},
   "source": [
    "## 3. Detekcja wartości odstających"
   ]
  },
  {
   "cell_type": "code",
   "execution_count": 34,
   "id": "d026ca59-323f-4d9b-9fb8-6af6eb4fcfa9",
   "metadata": {},
   "outputs": [
    {
     "name": "stderr",
     "output_type": "stream",
     "text": [
      "C:\\Users\\Hubert\\AppData\\Local\\Temp\\ipykernel_892\\2651121736.py:4: FutureWarning:\n",
      "\n",
      "A value is trying to be set on a copy of a DataFrame or Series through chained assignment using an inplace method.\n",
      "The behavior will change in pandas 3.0. This inplace method will never work because the intermediate object on which we are setting values always behaves as a copy.\n",
      "\n",
      "For example, when doing 'df[col].method(value, inplace=True)', try using 'df.method({col: value}, inplace=True)' or df[col] = df[col].method(value) instead, to perform the operation inplace on the original object.\n",
      "\n",
      "\n",
      "\n",
      "C:\\Users\\Hubert\\AppData\\Local\\Temp\\ipykernel_892\\2651121736.py:7: FutureWarning:\n",
      "\n",
      "A value is trying to be set on a copy of a DataFrame or Series through chained assignment using an inplace method.\n",
      "The behavior will change in pandas 3.0. This inplace method will never work because the intermediate object on which we are setting values always behaves as a copy.\n",
      "\n",
      "For example, when doing 'df[col].method(value, inplace=True)', try using 'df.method({col: value}, inplace=True)' or df[col] = df[col].method(value) instead, to perform the operation inplace on the original object.\n",
      "\n",
      "\n",
      "\n"
     ]
    },
    {
     "name": "stdout",
     "output_type": "stream",
     "text": [
      "         SbjNum NetDuration InterviewTimeVStart InterviewTimeVEnd  \\\n",
      "25    133341539     0:09:55      7/13/2020 9:15    7/13/2020 9:39   \n",
      "56    133620669     0:14:33      7/23/2020 9:43    7/23/2020 9:58   \n",
      "58    133282912     0:21:46      7/10/2020 9:39   7/10/2020 10:03   \n",
      "74    133281835     0:08:54     7/10/2020 10:57   7/10/2020 11:09   \n",
      "88    133380757     0:10:49     7/14/2020 17:39   7/14/2020 18:04   \n",
      "...         ...         ...                 ...               ...   \n",
      "959   133309597     0:08:45     7/11/2020 17:38   7/11/2020 17:48   \n",
      "961   133282914     0:15:37     7/10/2020 11:25   7/10/2020 11:42   \n",
      "967   133481272     0:08:03     7/17/2020 17:49   7/17/2020 19:01   \n",
      "1001  133292785     0:15:41     7/10/2020 16:37   7/10/2020 17:03   \n",
      "1011  133350222     0:18:10     7/13/2020 11:03   7/13/2020 11:24   \n",
      "\n",
      "                 Date  Srvyr  Country  LANG  R1  R1_5  ... G11_99  \\\n",
      "25     7/13/2020 4:15   3232        2     6  14  37.0  ...    NaN   \n",
      "56     7/23/2020 4:43   3215        2     5  14  21.0  ...    NaN   \n",
      "58     7/10/2020 4:39   3216        2     1  13  18.0  ...    NaN   \n",
      "74     7/10/2020 5:57   3212        2     1  12   9.0  ...    NaN   \n",
      "88    7/14/2020 12:39   3212        2     1  12  12.0  ...    NaN   \n",
      "...               ...    ...      ...   ...  ..   ...  ...    ...   \n",
      "959   7/11/2020 12:38   3212        2     1  13  17.0  ...    NaN   \n",
      "961    7/10/2020 6:25   3216        2     1  13  11.0  ...    NaN   \n",
      "967   7/17/2020 12:49   3209        2     3  11  30.0  ...    NaN   \n",
      "1001  7/10/2020 11:37   3225        2     3  11  28.0  ...    NaN   \n",
      "1011   7/13/2020 6:03   3204        2     3  11  42.0  ...    NaN   \n",
      "\n",
      "     FinalOutcome  NumOfVisits  weight_combined  kenya_weight nigeria_weight  \\\n",
      "25              1            1         1.416946           NaN       1.416946   \n",
      "56              1            1         2.722043           NaN       2.722043   \n",
      "58              1            1         2.722043           NaN       2.722043   \n",
      "74              1            1         1.416946           NaN       1.416946   \n",
      "88              1            1         1.416946           NaN       1.416946   \n",
      "...           ...          ...              ...           ...            ...   \n",
      "959             1            1         1.416946           NaN       1.416946   \n",
      "961             1            1         2.722043           NaN       2.722043   \n",
      "967             1            2         1.416946           NaN       1.416946   \n",
      "1001            1            1         2.722043           NaN       2.722043   \n",
      "1011            1            1         1.416946           NaN       1.416946   \n",
      "\n",
      "      southafrica_weight agegroup  gk_weight outliers  \n",
      "25                   NaN        2   2.538366       -1  \n",
      "56                   NaN        3   7.110619       -1  \n",
      "58                   NaN        3   2.895287       -1  \n",
      "74                   NaN        2   2.408467       -1  \n",
      "88                   NaN        2   2.408467       -1  \n",
      "...                  ...      ...        ...      ...  \n",
      "959                  NaN        2   3.532132       -1  \n",
      "961                  NaN        3   2.895287       -1  \n",
      "967                  NaN        2   2.538366       -1  \n",
      "1001                 NaN        3   3.532132       -1  \n",
      "1011                 NaN        2   7.110619       -1  \n",
      "\n",
      "[70 rows x 248 columns]\n"
     ]
    }
   ],
   "source": [
    "from sklearn.ensemble import IsolationForest\n",
    "\n",
    "mean_value = df['nigeria_weight'].mean()\n",
    "df['nigeria_weight'].fillna(mean_value, inplace=True)\n",
    "\n",
    "mean_value = df['gk_weight'].mean()\n",
    "df['gk_weight'].fillna(mean_value, inplace=True)\n",
    "\n",
    "# Dopasowanie modelu Isolation Forest\n",
    "isolation_forest = IsolationForest(contamination=0.05)\n",
    "df['outliers'] = isolation_forest.fit_predict(df[['gk_weight', 'nigeria_weight']])\n",
    "\n",
    "# Wyświetlenie wartosci odstajacych\n",
    "print(df[df['outliers'] == -1])"
   ]
  },
  {
   "cell_type": "code",
   "execution_count": null,
   "id": "b655c47f-318f-4196-b75c-cb1fc88798a2",
   "metadata": {},
   "outputs": [],
   "source": [
    "import plotly.express as px\n",
    "\n",
    "fig = px.scatter(df, x='area', y='price', color='outliers', title='Wartosci odstajace w danych')\n",
    "fig.show()"
   ]
  },
  {
   "cell_type": "markdown",
   "id": "a77efc38-a2f1-440b-ad52-14a783f84c69",
   "metadata": {},
   "source": [
    "## 4. Analiza głównych składowych (PCA)"
   ]
  },
  {
   "cell_type": "code",
   "execution_count": null,
   "id": "865ae4bc-82f8-4760-8922-8cb527801f2b",
   "metadata": {},
   "outputs": [],
   "source": [
    "from sklearn.decomposition import PCA\n",
    "from sklearn.preprocessing import StandardScaler\n",
    "\n",
    "# Skalowanie danych\n",
    "scaler = StandardScaler()\n",
    "scaled_data = scaler.fit_transform(df[['area', 'price', 'bedrooms']])\n",
    "\n",
    "# PCA\n",
    "pca = PCA(n_components=2)\n",
    "principal_components = pca.fit_transform(scaled_data)\n",
    "\n",
    "# Wynik PCA\n",
    "df['PC1'] = principal_components[:, 0]\n",
    "df['PC2'] = principal_components[:, 1]\n",
    "print(pca.explained_variance_ratio_)"
   ]
  },
  {
   "cell_type": "code",
   "execution_count": null,
   "id": "37551a16-e8f6-4098-9dc4-2ea514360535",
   "metadata": {
    "tags": []
   },
   "outputs": [],
   "source": [
    "fig = px.scatter(df, x='PC1', y='PC2', color='price', title='Wizualizacja glownych skladowych')\n",
    "fig.show()"
   ]
  },
  {
   "cell_type": "markdown",
   "id": "a188c4c2-beb0-4dbf-91f9-af8543ad783f",
   "metadata": {},
   "source": [
    "## 4a. Wizualizacja redukcji wymiarowości - t-SNE"
   ]
  },
  {
   "cell_type": "code",
   "execution_count": null,
   "id": "7558e325-313e-47c8-9c31-3a80e386aab4",
   "metadata": {},
   "outputs": [],
   "source": [
    "from sklearn.manifold import TSNE\n",
    "\n",
    "# t-SNE\n",
    "tsne = TSNE(n_components=2, random_state=42)\n",
    "tsne_results = tsne.fit_transform(df[['price','area','bedrooms','bathrooms','stories','parking']])\n",
    "\n",
    "# Dodanie wynikow do ramki danych\n",
    "df['tSNE1'] = tsne_results[:, 0]\n",
    "df['tSNE2'] = tsne_results[:, 1]\n",
    "\n",
    "# Wizualizacja\n",
    "sns.scatterplot(data=df, x='tSNE1', y='tSNE2', hue='prefarea', palette='coolwarm')\n",
    "plt.title('Wizualizacja t-SNE')\n",
    "plt.show()"
   ]
  },
  {
   "cell_type": "markdown",
   "id": "97d9bba6-cae7-4490-a77b-ae7fd8437eff",
   "metadata": {},
   "source": [
    "## 4b. Wizualizacja redukcji wymiarowości - UMAP"
   ]
  },
  {
   "cell_type": "code",
   "execution_count": null,
   "id": "f3b353cc-2771-4f90-aa7c-d9f3114433ae",
   "metadata": {},
   "outputs": [],
   "source": [
    "    #!pip uninstall umap\n",
    "    #!pip install umap-learn\n",
    "    import umap.umap_ as umap\n",
    "\n",
    "    # UMAP\n",
    "    reducer = umap.UMAP(n_neighbors=10, min_dist=0.1, random_state=42)\n",
    "    umap_results = reducer.fit_transform(df[['price','area','bedrooms','bathrooms','stories','parking']])\n",
    "\n",
    "    # Dodanie wynikow do ramki danych\n",
    "    df['UMAP1'] = umap_results[:, 0]\n",
    "    df['UMAP2'] = umap_results[:, 1]\n",
    "\n",
    "    # Wizualizacja\n",
    "    sns.scatterplot(data=df, x='UMAP1', y='UMAP2', hue='prefarea', palette='Spectral')\n",
    "    plt.title('Wizualizacja UMAP')\n",
    "    plt.show()"
   ]
  },
  {
   "cell_type": "markdown",
   "id": "fabbe1a0-0c13-49da-8769-a6450fb9ba9c",
   "metadata": {},
   "source": [
    "## 5. Interaktywna analiza zależności"
   ]
  },
  {
   "cell_type": "code",
   "execution_count": null,
   "id": "e80289ec-d05e-424d-997d-56134b8f0576",
   "metadata": {},
   "outputs": [],
   "source": [
    "#!pip install altair\n",
    "import altair as alt\n",
    "\n",
    "chart = alt.Chart(df).mark_circle(size=60).encode(\n",
    "        x='area',\n",
    "        y='price',\n",
    "        color='bedrooms',\n",
    "        tooltip=['area', 'price', 'bedrooms']\n",
    ").interactive()\n",
    "\n",
    "chart.show()"
   ]
  },
  {
   "cell_type": "markdown",
   "id": "cc512c6c-0af5-40d6-9266-395237255a02",
   "metadata": {},
   "source": [
    "## 5a. Analiza macierzy korelacji"
   ]
  },
  {
   "cell_type": "code",
   "execution_count": null,
   "id": "8cff9b55-8cb5-48e1-b0e3-b946249f586b",
   "metadata": {},
   "outputs": [],
   "source": [
    "import numpy as np\n",
    "\n",
    "# Macierz korelacji\n",
    "correlation_matrix = df[['price','area','bedrooms','bathrooms','stories','parking']].corr()\n",
    "\n",
    "# Heatmap\n",
    "sns.heatmap(correlation_matrix, annot=True, cmap='coolwarm')\n",
    "plt.title('Macierz korelacji')\n",
    "plt.show()"
   ]
  },
  {
   "cell_type": "markdown",
   "id": "f63e484e-f4c1-489c-a8ac-0b3c8b9ea378",
   "metadata": {},
   "source": [
    "## 6. Testy statystyczne"
   ]
  },
  {
   "cell_type": "code",
   "execution_count": null,
   "id": "00686e77-89f7-4f29-a640-8b87e997759d",
   "metadata": {},
   "outputs": [],
   "source": [
    "from statsmodels.formula.api import ols\n",
    "from statsmodels.stats.anova import anova_lm\n",
    "\n",
    "# Model ANOVA\n",
    "model = ols('price ~ C(bedrooms)', data=df).fit()\n",
    "anova_results = anova_lm(model)\n",
    "\n",
    "print(anova_results)"
   ]
  },
  {
   "cell_type": "code",
   "execution_count": null,
   "id": "ccd1182e-cf03-41ca-b877-4925130f7a26",
   "metadata": {},
   "outputs": [],
   "source": []
  },
  {
   "cell_type": "code",
   "execution_count": null,
   "id": "f0ab59f2-3302-412b-b9b4-457c71e5535a",
   "metadata": {},
   "outputs": [],
   "source": []
  },
  {
   "cell_type": "code",
   "execution_count": null,
   "id": "af423a91-15d0-4b67-a0a3-6410d1c5227c",
   "metadata": {},
   "outputs": [],
   "source": []
  },
  {
   "cell_type": "code",
   "execution_count": null,
   "id": "eca0c6c5-5199-4a3a-beeb-8226f428258c",
   "metadata": {},
   "outputs": [],
   "source": []
  }
 ],
 "metadata": {
  "kernelspec": {
   "display_name": "Python 3 (ipykernel)",
   "language": "python",
   "name": "python3"
  },
  "language_info": {
   "codemirror_mode": {
    "name": "ipython",
    "version": 3
   },
   "file_extension": ".py",
   "mimetype": "text/x-python",
   "name": "python",
   "nbconvert_exporter": "python",
   "pygments_lexer": "ipython3",
   "version": "3.12.7"
  }
 },
 "nbformat": 4,
 "nbformat_minor": 5
}
