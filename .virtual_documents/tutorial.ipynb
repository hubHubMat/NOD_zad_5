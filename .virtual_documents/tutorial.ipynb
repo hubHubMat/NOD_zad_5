


import pandas as pd

df = pd.read_csv('data.csv')

# Podstawowe informacje o danych
print(df.info())
print(df.describe())





import seaborn as sns
import matplotlib.pyplot as plt

# Histogram rozkladu cen
sns.histplot(df['gk_weight'], kde=True)
plt.title('Rozklad gk_weight')
plt.show()





from sklearn.ensemble import IsolationForest

mean_value = df['nigeria_weight'].mean()
df['nigeria_weight'].fillna(mean_value, inplace=True)

mean_value = df['gk_weight'].mean()
df['gk_weight'].fillna(mean_value, inplace=True)

# Dopasowanie modelu Isolation Forest
isolation_forest = IsolationForest(contamination=0.05)
df['outliers'] = isolation_forest.fit_predict(df[['gk_weight', 'nigeria_weight']])

# Wyświetlenie wartosci odstajacych
print(df[df['outliers'] == -1])


import plotly.express as px

fig = px.scatter(df, x='area', y='price', color='outliers', title='Wartosci odstajace w danych')
fig.show()





from sklearn.decomposition import PCA
from sklearn.preprocessing import StandardScaler

# Skalowanie danych
scaler = StandardScaler()
scaled_data = scaler.fit_transform(df[['area', 'price', 'bedrooms']])

# PCA
pca = PCA(n_components=2)
principal_components = pca.fit_transform(scaled_data)

# Wynik PCA
df['PC1'] = principal_components[:, 0]
df['PC2'] = principal_components[:, 1]
print(pca.explained_variance_ratio_)


fig = px.scatter(df, x='PC1', y='PC2', color='price', title='Wizualizacja glownych skladowych')
fig.show()





from sklearn.manifold import TSNE

# t-SNE
tsne = TSNE(n_components=2, random_state=42)
tsne_results = tsne.fit_transform(df[['price','area','bedrooms','bathrooms','stories','parking']])

# Dodanie wynikow do ramki danych
df['tSNE1'] = tsne_results[:, 0]
df['tSNE2'] = tsne_results[:, 1]

# Wizualizacja
sns.scatterplot(data=df, x='tSNE1', y='tSNE2', hue='prefarea', palette='coolwarm')
plt.title('Wizualizacja t-SNE')
plt.show()





    #!pip uninstall umap
    #!pip install umap-learn
    import umap.umap_ as umap

    # UMAP
    reducer = umap.UMAP(n_neighbors=10, min_dist=0.1, random_state=42)
    umap_results = reducer.fit_transform(df[['price','area','bedrooms','bathrooms','stories','parking']])

    # Dodanie wynikow do ramki danych
    df['UMAP1'] = umap_results[:, 0]
    df['UMAP2'] = umap_results[:, 1]

    # Wizualizacja
    sns.scatterplot(data=df, x='UMAP1', y='UMAP2', hue='prefarea', palette='Spectral')
    plt.title('Wizualizacja UMAP')
    plt.show()





#!pip install altair
import altair as alt

chart = alt.Chart(df).mark_circle(size=60).encode(
        x='area',
        y='price',
        color='bedrooms',
        tooltip=['area', 'price', 'bedrooms']
).interactive()

chart.show()





import numpy as np

# Macierz korelacji
correlation_matrix = df[['price','area','bedrooms','bathrooms','stories','parking']].corr()

# Heatmap
sns.heatmap(correlation_matrix, annot=True, cmap='coolwarm')
plt.title('Macierz korelacji')
plt.show()





from statsmodels.formula.api import ols
from statsmodels.stats.anova import anova_lm

# Model ANOVA
model = ols('price ~ C(bedrooms)', data=df).fit()
anova_results = anova_lm(model)

print(anova_results)












