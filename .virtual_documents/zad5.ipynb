import pandas as pd

df = pd.read_csv('data.csv')

# Podstawowe informacje o danych
print(df.info())
print(df.describe())


import seaborn as sns
import matplotlib.pyplot as plt

# Histogram rozkladu cen
sns.histplot(df['gk_weight'], kde=True)
plt.title('Rozklad gk_weight')
plt.show()


from sklearn.ensemble import IsolationForest

mean_value = df['nigeria_weight'].mean()
df['nigeria_weight'].fillna(mean_value, inplace=True)

mean_value = df['gk_weight'].mean()
df['gk_weight'].fillna(mean_value, inplace=True)

# Dopasowanie modelu Isolation Forest
isolation_forest = IsolationForest(contamination=0.05)
df['outliers'] = isolation_forest.fit_predict(df[['gk_weight', 'nigeria_weight']])

# Wyświetlenie wartosci odstajacych
print(df[df['outliers'] == -1])


import plotly.express as px

fig = px.scatter(df, x='LANG', y='R1', color='outliers', title='Wartosci odstajace w danych')
fig.show()



from sklearn.decomposition import PCA
from sklearn.preprocessing import StandardScaler
df = df.fillna(df.median(numeric_only=True))
# Skalowanie danych
scaler = StandardScaler()
scaled_data = scaler.fit_transform(df[['LANG', 'R1', 'R1_5']])

# PCA
pca = PCA(n_components=2)
principal_components = pca.fit_transform(scaled_data)

# Wynik PCA
df['PC1'] = principal_components[:, 0]
df['PC2'] = principal_components[:, 1]
print(pca.explained_variance_ratio_)

fig = px.scatter(df, x='PC1', y='PC2', color='LANG', title='Wizualizacja glownych skladowych')
fig.show()


from sklearn.manifold import TSNE

# t-SNE
tsne = TSNE(n_components=2, random_state=42)
tsne_results = tsne.fit_transform(df[['LANG','R1','R4','R5','R6','R7']])

# Dodanie wynikow do ramki danych
df['tSNE1'] = tsne_results[:, 0]
df['tSNE2'] = tsne_results[:, 1]

# Wizualizacja
sns.scatterplot(data=df, x='tSNE1', y='tSNE2', hue='prefarea', palette='coolwarm')
plt.title('Wizualizacja t-SNE')
plt.show()


print(df.columns)



